{
 "cells": [
  {
   "cell_type": "code",
   "execution_count": 1,
   "metadata": {},
   "outputs": [],
   "source": [
    "import pandas as pd\n",
    "data = {\n",
    "    'Service Type': ['Internet', 'Mobile', 'Cable TV', 'Landline'],\n",
    "    'Average Rating': [4.2, 3.8, 4.5, 3.5],\n",
    "    'Monthly Revenue ($)': [20000, 15000, 12000, 8000]\n",
    "}\n",
    "df = pd.DataFrame(data)\n",
    "styled_df = df.style.set_table_styles([\n",
    "    {'selector': 'th',\n",
    "     'props': [('background-color', 'lightblue'), ('color', 'black'), ('font-weight', 'bold')]},\n",
    "    {'selector': 'td',\n",
    "     'props': [('text-align', 'center')]},\n",
    "    {'selector': 'tr:nth-child(even)',\n",
    "     'props': [('background-color', 'lightgray')]},\n",
    "    {'selector': 'tr:nth-child(odd)',\n",
    "     'props': [('background-color', 'white')]},\n",
    "    {'selector': '.index_name',\n",
    "     'props': [('color', 'darkblue'), ('font-style', 'italic')]}\n",
    "], overwrite=False)\n",
    "\n",
    "# Assigning a name to the index for styling purposes\n",
    "styled_df.index.name = 'Service ID'\n",
    "html_styled = styled_df.to_html(escape=False)\n",
    "with open(\"styled_columns_rows_table.html\", \"w\") as file:\n",
    "    file.write(html_styled)\n"
   ]
  },
  {
   "cell_type": "code",
   "execution_count": null,
   "metadata": {},
   "outputs": [],
   "source": []
  }
 ],
 "metadata": {
  "kernelspec": {
   "display_name": "Python 3",
   "language": "python",
   "name": "python3"
  },
  "language_info": {
   "codemirror_mode": {
    "name": "ipython",
    "version": 3
   },
   "file_extension": ".py",
   "mimetype": "text/x-python",
   "name": "python",
   "nbconvert_exporter": "python",
   "pygments_lexer": "ipython3",
   "version": "3.11.7"
  }
 },
 "nbformat": 4,
 "nbformat_minor": 2
}
